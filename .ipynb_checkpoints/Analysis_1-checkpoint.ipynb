{
 "cells": [
  {
   "cell_type": "markdown",
   "id": "4212c48a",
   "metadata": {},
   "source": [
    "# Analysis"
   ]
  },
  {
   "cell_type": "code",
   "execution_count": 1,
   "id": "9bf97009",
   "metadata": {},
   "outputs": [],
   "source": [
    "#import modules\n",
    "import pandas as pd\n",
    "import matplotlib.pyplot as plt\n",
    "import numpy as np\n",
    "import seaborn as sns\n"
   ]
  },
  {
   "cell_type": "code",
   "execution_count": 2,
   "id": "61b5f2d5",
   "metadata": {},
   "outputs": [
    {
     "name": "stdout",
     "output_type": "stream",
     "text": [
      "Le nombre de variables: \n",
      "Index(['Iso3', 'StartDate', 'EndDate', 'Area Code', 'Area', 'Item Code',\n",
      "       'Item', 'Element Code', 'Element', 'Year Code', 'Months Code', 'Months',\n",
      "       'Unit', 'Value', 'Flag'],\n",
      "      dtype='object') \n",
      "\n",
      "Le shape: (3973, 15)\n"
     ]
    },
    {
     "data": {
      "text/html": [
       "<div>\n",
       "<style scoped>\n",
       "    .dataframe tbody tr th:only-of-type {\n",
       "        vertical-align: middle;\n",
       "    }\n",
       "\n",
       "    .dataframe tbody tr th {\n",
       "        vertical-align: top;\n",
       "    }\n",
       "\n",
       "    .dataframe thead th {\n",
       "        text-align: right;\n",
       "    }\n",
       "</style>\n",
       "<table border=\"1\" class=\"dataframe\">\n",
       "  <thead>\n",
       "    <tr style=\"text-align: right;\">\n",
       "      <th></th>\n",
       "      <th>Iso3</th>\n",
       "      <th>StartDate</th>\n",
       "      <th>EndDate</th>\n",
       "      <th>Area Code</th>\n",
       "      <th>Area</th>\n",
       "      <th>Item Code</th>\n",
       "      <th>Item</th>\n",
       "      <th>Element Code</th>\n",
       "      <th>Element</th>\n",
       "      <th>Year Code</th>\n",
       "      <th>Months Code</th>\n",
       "      <th>Months</th>\n",
       "      <th>Unit</th>\n",
       "      <th>Value</th>\n",
       "      <th>Flag</th>\n",
       "    </tr>\n",
       "    <tr>\n",
       "      <th>Year</th>\n",
       "      <th></th>\n",
       "      <th></th>\n",
       "      <th></th>\n",
       "      <th></th>\n",
       "      <th></th>\n",
       "      <th></th>\n",
       "      <th></th>\n",
       "      <th></th>\n",
       "      <th></th>\n",
       "      <th></th>\n",
       "      <th></th>\n",
       "      <th></th>\n",
       "      <th></th>\n",
       "      <th></th>\n",
       "      <th></th>\n",
       "    </tr>\n",
       "  </thead>\n",
       "  <tbody>\n",
       "    <tr>\n",
       "      <th>#date+year</th>\n",
       "      <td>#country+code</td>\n",
       "      <td>#date+start</td>\n",
       "      <td>#date+end</td>\n",
       "      <td>NaN</td>\n",
       "      <td>#country+name</td>\n",
       "      <td>#indicator+code</td>\n",
       "      <td>#indicator+name</td>\n",
       "      <td>NaN</td>\n",
       "      <td>NaN</td>\n",
       "      <td>NaN</td>\n",
       "      <td>NaN</td>\n",
       "      <td>NaN</td>\n",
       "      <td>#indicator+type</td>\n",
       "      <td>#indicator+value+num</td>\n",
       "      <td>NaN</td>\n",
       "    </tr>\n",
       "    <tr>\n",
       "      <th>2014</th>\n",
       "      <td>SEN</td>\n",
       "      <td>2014-01-01</td>\n",
       "      <td>2014-12-31</td>\n",
       "      <td>195.0</td>\n",
       "      <td>Senegal</td>\n",
       "      <td>486</td>\n",
       "      <td>Bananas</td>\n",
       "      <td>5530.0</td>\n",
       "      <td>Producer Price (LCU/tonne)</td>\n",
       "      <td>2014.0</td>\n",
       "      <td>7021.0</td>\n",
       "      <td>Annual value</td>\n",
       "      <td>LCU</td>\n",
       "      <td>378000.000000</td>\n",
       "      <td>NaN</td>\n",
       "    </tr>\n",
       "    <tr>\n",
       "      <th>2017</th>\n",
       "      <td>SEN</td>\n",
       "      <td>2017-01-01</td>\n",
       "      <td>2017-12-31</td>\n",
       "      <td>195.0</td>\n",
       "      <td>Senegal</td>\n",
       "      <td>486</td>\n",
       "      <td>Bananas</td>\n",
       "      <td>5530.0</td>\n",
       "      <td>Producer Price (LCU/tonne)</td>\n",
       "      <td>2017.0</td>\n",
       "      <td>7021.0</td>\n",
       "      <td>Annual value</td>\n",
       "      <td>LCU</td>\n",
       "      <td>462881.000000</td>\n",
       "      <td>NaN</td>\n",
       "    </tr>\n",
       "    <tr>\n",
       "      <th>2018</th>\n",
       "      <td>SEN</td>\n",
       "      <td>2018-01-01</td>\n",
       "      <td>2018-12-31</td>\n",
       "      <td>195.0</td>\n",
       "      <td>Senegal</td>\n",
       "      <td>486</td>\n",
       "      <td>Bananas</td>\n",
       "      <td>5530.0</td>\n",
       "      <td>Producer Price (LCU/tonne)</td>\n",
       "      <td>2018.0</td>\n",
       "      <td>7021.0</td>\n",
       "      <td>Annual value</td>\n",
       "      <td>LCU</td>\n",
       "      <td>462881.000000</td>\n",
       "      <td>NaN</td>\n",
       "    </tr>\n",
       "    <tr>\n",
       "      <th>2019</th>\n",
       "      <td>SEN</td>\n",
       "      <td>2019-01-01</td>\n",
       "      <td>2019-12-31</td>\n",
       "      <td>195.0</td>\n",
       "      <td>Senegal</td>\n",
       "      <td>486</td>\n",
       "      <td>Bananas</td>\n",
       "      <td>5530.0</td>\n",
       "      <td>Producer Price (LCU/tonne)</td>\n",
       "      <td>2019.0</td>\n",
       "      <td>7021.0</td>\n",
       "      <td>Annual value</td>\n",
       "      <td>LCU</td>\n",
       "      <td>462800.000000</td>\n",
       "      <td>NaN</td>\n",
       "    </tr>\n",
       "    <tr>\n",
       "      <th>2014</th>\n",
       "      <td>SEN</td>\n",
       "      <td>2014-01-01</td>\n",
       "      <td>2014-12-31</td>\n",
       "      <td>195.0</td>\n",
       "      <td>Senegal</td>\n",
       "      <td>486</td>\n",
       "      <td>Bananas</td>\n",
       "      <td>5531.0</td>\n",
       "      <td>Producer Price (SLC/tonne)</td>\n",
       "      <td>2014.0</td>\n",
       "      <td>7021.0</td>\n",
       "      <td>Annual value</td>\n",
       "      <td>SLC</td>\n",
       "      <td>378000.000000</td>\n",
       "      <td>NaN</td>\n",
       "    </tr>\n",
       "    <tr>\n",
       "      <th>2017</th>\n",
       "      <td>SEN</td>\n",
       "      <td>2017-01-01</td>\n",
       "      <td>2017-12-31</td>\n",
       "      <td>195.0</td>\n",
       "      <td>Senegal</td>\n",
       "      <td>486</td>\n",
       "      <td>Bananas</td>\n",
       "      <td>5531.0</td>\n",
       "      <td>Producer Price (SLC/tonne)</td>\n",
       "      <td>2017.0</td>\n",
       "      <td>7021.0</td>\n",
       "      <td>Annual value</td>\n",
       "      <td>SLC</td>\n",
       "      <td>462881.000000</td>\n",
       "      <td>NaN</td>\n",
       "    </tr>\n",
       "    <tr>\n",
       "      <th>2018</th>\n",
       "      <td>SEN</td>\n",
       "      <td>2018-01-01</td>\n",
       "      <td>2018-12-31</td>\n",
       "      <td>195.0</td>\n",
       "      <td>Senegal</td>\n",
       "      <td>486</td>\n",
       "      <td>Bananas</td>\n",
       "      <td>5531.0</td>\n",
       "      <td>Producer Price (SLC/tonne)</td>\n",
       "      <td>2018.0</td>\n",
       "      <td>7021.0</td>\n",
       "      <td>Annual value</td>\n",
       "      <td>SLC</td>\n",
       "      <td>462881.000000</td>\n",
       "      <td>NaN</td>\n",
       "    </tr>\n",
       "    <tr>\n",
       "      <th>2019</th>\n",
       "      <td>SEN</td>\n",
       "      <td>2019-01-01</td>\n",
       "      <td>2019-12-31</td>\n",
       "      <td>195.0</td>\n",
       "      <td>Senegal</td>\n",
       "      <td>486</td>\n",
       "      <td>Bananas</td>\n",
       "      <td>5531.0</td>\n",
       "      <td>Producer Price (SLC/tonne)</td>\n",
       "      <td>2019.0</td>\n",
       "      <td>7021.0</td>\n",
       "      <td>Annual value</td>\n",
       "      <td>SLC</td>\n",
       "      <td>462800.000000</td>\n",
       "      <td>NaN</td>\n",
       "    </tr>\n",
       "    <tr>\n",
       "      <th>2014</th>\n",
       "      <td>SEN</td>\n",
       "      <td>2014-01-01</td>\n",
       "      <td>2014-12-31</td>\n",
       "      <td>195.0</td>\n",
       "      <td>Senegal</td>\n",
       "      <td>486</td>\n",
       "      <td>Bananas</td>\n",
       "      <td>5532.0</td>\n",
       "      <td>Producer Price (USD/tonne)</td>\n",
       "      <td>2014.0</td>\n",
       "      <td>7021.0</td>\n",
       "      <td>Annual value</td>\n",
       "      <td>USD</td>\n",
       "      <td>765.000000</td>\n",
       "      <td>NaN</td>\n",
       "    </tr>\n",
       "  </tbody>\n",
       "</table>\n",
       "</div>"
      ],
      "text/plain": [
       "                     Iso3    StartDate     EndDate  Area Code           Area  \\\n",
       "Year                                                                           \n",
       "#date+year  #country+code  #date+start   #date+end        NaN  #country+name   \n",
       "2014                  SEN   2014-01-01  2014-12-31      195.0        Senegal   \n",
       "2017                  SEN   2017-01-01  2017-12-31      195.0        Senegal   \n",
       "2018                  SEN   2018-01-01  2018-12-31      195.0        Senegal   \n",
       "2019                  SEN   2019-01-01  2019-12-31      195.0        Senegal   \n",
       "2014                  SEN   2014-01-01  2014-12-31      195.0        Senegal   \n",
       "2017                  SEN   2017-01-01  2017-12-31      195.0        Senegal   \n",
       "2018                  SEN   2018-01-01  2018-12-31      195.0        Senegal   \n",
       "2019                  SEN   2019-01-01  2019-12-31      195.0        Senegal   \n",
       "2014                  SEN   2014-01-01  2014-12-31      195.0        Senegal   \n",
       "\n",
       "                  Item Code             Item  Element Code  \\\n",
       "Year                                                         \n",
       "#date+year  #indicator+code  #indicator+name           NaN   \n",
       "2014                    486          Bananas        5530.0   \n",
       "2017                    486          Bananas        5530.0   \n",
       "2018                    486          Bananas        5530.0   \n",
       "2019                    486          Bananas        5530.0   \n",
       "2014                    486          Bananas        5531.0   \n",
       "2017                    486          Bananas        5531.0   \n",
       "2018                    486          Bananas        5531.0   \n",
       "2019                    486          Bananas        5531.0   \n",
       "2014                    486          Bananas        5532.0   \n",
       "\n",
       "                               Element  Year Code  Months Code        Months  \\\n",
       "Year                                                                           \n",
       "#date+year                         NaN        NaN          NaN           NaN   \n",
       "2014        Producer Price (LCU/tonne)     2014.0       7021.0  Annual value   \n",
       "2017        Producer Price (LCU/tonne)     2017.0       7021.0  Annual value   \n",
       "2018        Producer Price (LCU/tonne)     2018.0       7021.0  Annual value   \n",
       "2019        Producer Price (LCU/tonne)     2019.0       7021.0  Annual value   \n",
       "2014        Producer Price (SLC/tonne)     2014.0       7021.0  Annual value   \n",
       "2017        Producer Price (SLC/tonne)     2017.0       7021.0  Annual value   \n",
       "2018        Producer Price (SLC/tonne)     2018.0       7021.0  Annual value   \n",
       "2019        Producer Price (SLC/tonne)     2019.0       7021.0  Annual value   \n",
       "2014        Producer Price (USD/tonne)     2014.0       7021.0  Annual value   \n",
       "\n",
       "                       Unit                 Value Flag  \n",
       "Year                                                    \n",
       "#date+year  #indicator+type  #indicator+value+num  NaN  \n",
       "2014                    LCU         378000.000000  NaN  \n",
       "2017                    LCU         462881.000000  NaN  \n",
       "2018                    LCU         462881.000000  NaN  \n",
       "2019                    LCU         462800.000000  NaN  \n",
       "2014                    SLC         378000.000000  NaN  \n",
       "2017                    SLC         462881.000000  NaN  \n",
       "2018                    SLC         462881.000000  NaN  \n",
       "2019                    SLC         462800.000000  NaN  \n",
       "2014                    USD            765.000000  NaN  "
      ]
     },
     "execution_count": 2,
     "metadata": {},
     "output_type": "execute_result"
    }
   ],
   "source": [
    "#Load the dataset\n",
    "df = pd.read_csv(\"Data/producer-prices_sen.csv\", index_col=\"Year\", parse_dates=True)\n",
    "print(f\"Le nombre de variables: \\n{df.columns} \\n\")\n",
    "print(f\"Le shape: {df.shape}\")\n",
    "df.head(10)"
   ]
  },
  {
   "cell_type": "code",
   "execution_count": 3,
   "id": "e554a58a",
   "metadata": {},
   "outputs": [
    {
     "name": "stdout",
     "output_type": "stream",
     "text": [
      "(3972, 15)\n"
     ]
    },
    {
     "data": {
      "text/html": [
       "<div>\n",
       "<style scoped>\n",
       "    .dataframe tbody tr th:only-of-type {\n",
       "        vertical-align: middle;\n",
       "    }\n",
       "\n",
       "    .dataframe tbody tr th {\n",
       "        vertical-align: top;\n",
       "    }\n",
       "\n",
       "    .dataframe thead th {\n",
       "        text-align: right;\n",
       "    }\n",
       "</style>\n",
       "<table border=\"1\" class=\"dataframe\">\n",
       "  <thead>\n",
       "    <tr style=\"text-align: right;\">\n",
       "      <th></th>\n",
       "      <th>Iso3</th>\n",
       "      <th>StartDate</th>\n",
       "      <th>EndDate</th>\n",
       "      <th>Area Code</th>\n",
       "      <th>Area</th>\n",
       "      <th>Item Code</th>\n",
       "      <th>Item</th>\n",
       "      <th>Element Code</th>\n",
       "      <th>Element</th>\n",
       "      <th>Year Code</th>\n",
       "      <th>Months Code</th>\n",
       "      <th>Months</th>\n",
       "      <th>Unit</th>\n",
       "      <th>Value</th>\n",
       "      <th>Flag</th>\n",
       "    </tr>\n",
       "    <tr>\n",
       "      <th>Year</th>\n",
       "      <th></th>\n",
       "      <th></th>\n",
       "      <th></th>\n",
       "      <th></th>\n",
       "      <th></th>\n",
       "      <th></th>\n",
       "      <th></th>\n",
       "      <th></th>\n",
       "      <th></th>\n",
       "      <th></th>\n",
       "      <th></th>\n",
       "      <th></th>\n",
       "      <th></th>\n",
       "      <th></th>\n",
       "      <th></th>\n",
       "    </tr>\n",
       "  </thead>\n",
       "  <tbody>\n",
       "    <tr>\n",
       "      <th>2014</th>\n",
       "      <td>SEN</td>\n",
       "      <td>2014-01-01</td>\n",
       "      <td>2014-12-31</td>\n",
       "      <td>195.0</td>\n",
       "      <td>Senegal</td>\n",
       "      <td>486</td>\n",
       "      <td>Bananas</td>\n",
       "      <td>5530.0</td>\n",
       "      <td>Producer Price (LCU/tonne)</td>\n",
       "      <td>2014.0</td>\n",
       "      <td>7021.0</td>\n",
       "      <td>Annual value</td>\n",
       "      <td>LCU</td>\n",
       "      <td>378000.000000</td>\n",
       "      <td>NaN</td>\n",
       "    </tr>\n",
       "    <tr>\n",
       "      <th>2017</th>\n",
       "      <td>SEN</td>\n",
       "      <td>2017-01-01</td>\n",
       "      <td>2017-12-31</td>\n",
       "      <td>195.0</td>\n",
       "      <td>Senegal</td>\n",
       "      <td>486</td>\n",
       "      <td>Bananas</td>\n",
       "      <td>5530.0</td>\n",
       "      <td>Producer Price (LCU/tonne)</td>\n",
       "      <td>2017.0</td>\n",
       "      <td>7021.0</td>\n",
       "      <td>Annual value</td>\n",
       "      <td>LCU</td>\n",
       "      <td>462881.000000</td>\n",
       "      <td>NaN</td>\n",
       "    </tr>\n",
       "  </tbody>\n",
       "</table>\n",
       "</div>"
      ],
      "text/plain": [
       "     Iso3   StartDate     EndDate  Area Code     Area Item Code     Item  \\\n",
       "Year                                                                       \n",
       "2014  SEN  2014-01-01  2014-12-31      195.0  Senegal       486  Bananas   \n",
       "2017  SEN  2017-01-01  2017-12-31      195.0  Senegal       486  Bananas   \n",
       "\n",
       "      Element Code                     Element  Year Code  Months Code  \\\n",
       "Year                                                                     \n",
       "2014        5530.0  Producer Price (LCU/tonne)     2014.0       7021.0   \n",
       "2017        5530.0  Producer Price (LCU/tonne)     2017.0       7021.0   \n",
       "\n",
       "            Months Unit          Value Flag  \n",
       "Year                                         \n",
       "2014  Annual value  LCU  378000.000000  NaN  \n",
       "2017  Annual value  LCU  462881.000000  NaN  "
      ]
     },
     "execution_count": 3,
     "metadata": {},
     "output_type": "execute_result"
    }
   ],
   "source": [
    "#delete the first row\n",
    "df = df.drop(df.index[0:1])\n",
    "print(df.shape)\n",
    "df.head(2)"
   ]
  },
  {
   "cell_type": "code",
   "execution_count": 4,
   "id": "5e95afd0",
   "metadata": {},
   "outputs": [
    {
     "data": {
      "text/plain": [
       "True"
      ]
     },
     "execution_count": 4,
     "metadata": {},
     "output_type": "execute_result"
    }
   ],
   "source": [
    "#verification des values NAN\n",
    "df.isnull().values.any()"
   ]
  },
  {
   "cell_type": "code",
   "execution_count": 5,
   "id": "51f4d8e7",
   "metadata": {},
   "outputs": [
    {
     "data": {
      "text/plain": [
       "False"
      ]
     },
     "execution_count": 5,
     "metadata": {},
     "output_type": "execute_result"
    }
   ],
   "source": [
    "#remplacer les values ayant des  NAN par \"Aucun\"\n",
    "df = df.fillna(\"Aucun\")\n",
    "df.isnull().values.any()"
   ]
  },
  {
   "cell_type": "code",
   "execution_count": 6,
   "id": "5f8e4fc2",
   "metadata": {},
   "outputs": [
    {
     "name": "stdout",
     "output_type": "stream",
     "text": [
      "False\n"
     ]
    }
   ],
   "source": [
    "#Verification de l'existance de doublant\n",
    "print(df.index.is_unique)"
   ]
  },
  {
   "cell_type": "code",
   "execution_count": 7,
   "id": "27339f55",
   "metadata": {},
   "outputs": [
    {
     "data": {
      "text/plain": [
       "(29, 15)"
      ]
     },
     "execution_count": 7,
     "metadata": {},
     "output_type": "execute_result"
    }
   ],
   "source": [
    "#suppression des doublant du dataset\n",
    "df = df.loc[~df.index.duplicated(), :]\n",
    "df.shape"
   ]
  },
  {
   "cell_type": "code",
   "execution_count": 10,
   "id": "e4152bc3",
   "metadata": {
    "scrolled": false
   },
   "outputs": [
    {
     "data": {
      "text/plain": [
       "Cashew nuts, with shell    23\n",
       "Bananas                     6\n",
       "Name: Item, dtype: int64"
      ]
     },
     "execution_count": 10,
     "metadata": {},
     "output_type": "execute_result"
    }
   ],
   "source": [
    "#connaitre le nombre d'item existant\n",
    "df['Item'].value_counts()"
   ]
  },
  {
   "cell_type": "code",
   "execution_count": 11,
   "id": "d96cd364",
   "metadata": {},
   "outputs": [
    {
     "data": {
      "text/plain": [
       "Producer Price (LCU/tonne)                27\n",
       "Producer Price Index (2014-2016 = 100)     2\n",
       "Name: Element, dtype: int64"
      ]
     },
     "execution_count": 11,
     "metadata": {},
     "output_type": "execute_result"
    }
   ],
   "source": [
    "#le nombre d'elements: \n",
    "df['Element'].value_counts()"
   ]
  },
  {
   "cell_type": "code",
   "execution_count": null,
   "id": "f16f265a",
   "metadata": {},
   "outputs": [],
   "source": []
  }
 ],
 "metadata": {
  "kernelspec": {
   "display_name": "Python 3 (ipykernel)",
   "language": "python",
   "name": "python3"
  },
  "language_info": {
   "codemirror_mode": {
    "name": "ipython",
    "version": 3
   },
   "file_extension": ".py",
   "mimetype": "text/x-python",
   "name": "python",
   "nbconvert_exporter": "python",
   "pygments_lexer": "ipython3",
   "version": "3.9.7"
  }
 },
 "nbformat": 4,
 "nbformat_minor": 5
}
